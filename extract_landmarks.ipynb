{
 "cells": [
  {
   "cell_type": "code",
   "execution_count": null,
   "id": "16f300d9-4e00-4334-99b2-4b1d6560f838",
   "metadata": {},
   "outputs": [],
   "source": [
    "import cv2\n",
    "import mediapipe as mp\n",
    "import numpy as np\n",
    "import os\n",
    "import pandas as pd"
   ]
  },
  {
   "cell_type": "code",
   "execution_count": null,
   "id": "0b340cde-2863-4726-9df3-b147288ee200",
   "metadata": {},
   "outputs": [],
   "source": [
    "# Initialize MediaPipe Hands\n",
    "mp_hands = mp.solutions.hands\n",
    "hands = mp_hands.Hands(static_image_mode=True, max_num_hands=1, min_detection_confidence=0.5)\n",
    "\n",
    "# Directory paths\n",
    "base_dir = 'data/train'\n",
    "landmark_file = 'data/hand_landmarks.csv'\n",
    "\n",
    "# Number of images to process in each batch\n",
    "batch_size = 100 "
   ]
  },
  {
   "cell_type": "code",
   "execution_count": null,
   "id": "3256dbc2-8723-4577-972f-97431981e2ef",
   "metadata": {},
   "outputs": [],
   "source": [
    "# Prepare a list to store landmarks\n",
    "landmarks_list = []\n",
    "\n",
    "# Column names\n",
    "columns = ['image_path', 'label'] + [f'{axis}_{i}' for i in range(21) for axis in ['x', 'y', 'z']]\n",
    "\n",
    "# Function to save batch of landmarks to CSV\n",
    "def save_batch(landmarks_list, batch_num):\n",
    "    landmarks_df = pd.DataFrame(landmarks_list, columns=columns)\n",
    "    if batch_num == 0:\n",
    "        landmarks_df.to_csv(landmark_file, index=False, mode='w')  # Overwrite on first batch\n",
    "    else:\n",
    "        landmarks_df.to_csv(landmark_file, index=False, mode='a', header=False)  # Append for subsequent batches"
   ]
  },
  {
   "cell_type": "code",
   "execution_count": null,
   "id": "cbc7ee2e-f611-497f-85e9-039c9f0755ab",
   "metadata": {},
   "outputs": [],
   "source": [
    "# Process each image\n",
    "batch_num = 0\n",
    "for label in os.listdir(base_dir):\n",
    "    label_dir = os.path.join(base_dir, label)\n",
    "    if os.path.isdir(label_dir):\n",
    "        print(f'Processing directory: {label_dir}')\n",
    "        for filename in os.listdir(label_dir):\n",
    "            if filename.endswith('.jpg') or filename.endswith('.png'):\n",
    "                image_path = os.path.join(label_dir, filename)\n",
    "                image = cv2.imread(image_path)\n",
    "                \n",
    "                if image is not None:\n",
    "                    # print(f'Processing image: {image_path}')\n",
    "                    image_rgb = cv2.cvtColor(image, cv2.COLOR_BGR2RGB)\n",
    "\n",
    "                    # Process the image and detect hand landmarks\n",
    "                    result = hands.process(image_rgb)\n",
    "\n",
    "                    if result.multi_hand_landmarks:\n",
    "                        hand_landmarks = result.multi_hand_landmarks[0]\n",
    "                        landmarks = [image_path, label] + [coord for lm in hand_landmarks.landmark for coord in (lm.x, lm.y, lm.z)]\n",
    "                        landmarks_list.append(landmarks)\n",
    "                        # print(f'Landmarks detected for image: {image_path}')\n",
    "                    # else:\n",
    "                    #     print(f'No landmarks detected for image: {image_path}')\n",
    "                else:\n",
    "                    print(f'Failed to read image: {image_path}')\n",
    "                \n",
    "                # Save batch if size is reached\n",
    "                if len(landmarks_list) >= batch_size:\n",
    "                    save_batch(landmarks_list, batch_num)\n",
    "                    batch_num += 1\n",
    "                    print(batch_num)\n",
    "                    landmarks_list = []\n",
    "\n",
    "# Save any remaining landmarks\n",
    "if landmarks_list:\n",
    "    save_batch(landmarks_list, batch_num)"
   ]
  },
  {
   "cell_type": "code",
   "execution_count": null,
   "id": "d7fbc7f0-280b-403e-94fa-a9bb7badc9e8",
   "metadata": {},
   "outputs": [],
   "source": [
    "# Release MediaPipe resources\n",
    "hands.close()\n",
    "\n",
    "print(f'Finished processing.')"
   ]
  }
 ],
 "metadata": {
  "kernelspec": {
   "display_name": "Python 3 (ipykernel)",
   "language": "python",
   "name": "python3"
  },
  "language_info": {
   "codemirror_mode": {
    "name": "ipython",
    "version": 3
   },
   "file_extension": ".py",
   "mimetype": "text/x-python",
   "name": "python",
   "nbconvert_exporter": "python",
   "pygments_lexer": "ipython3",
   "version": "3.12.4"
  }
 },
 "nbformat": 4,
 "nbformat_minor": 5
}
