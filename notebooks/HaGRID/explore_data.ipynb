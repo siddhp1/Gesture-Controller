{
 "cells": [
  {
   "cell_type": "code",
   "execution_count": 2,
   "id": "8b79efde-2953-46fb-afa0-5ea07f3a3f39",
   "metadata": {},
   "outputs": [],
   "source": [
    "import pandas as pd\n",
    "import numpy as np\n",
    "import matplotlib.pyplot as plt"
   ]
  },
  {
   "cell_type": "code",
   "execution_count": 3,
   "id": "60bcb409-ae7b-49ef-8ba5-f3c902a44d82",
   "metadata": {},
   "outputs": [
    {
     "data": {
      "text/html": [
       "<div>\n",
       "<style scoped>\n",
       "    .dataframe tbody tr th:only-of-type {\n",
       "        vertical-align: middle;\n",
       "    }\n",
       "\n",
       "    .dataframe tbody tr th {\n",
       "        vertical-align: top;\n",
       "    }\n",
       "\n",
       "    .dataframe thead th {\n",
       "        text-align: right;\n",
       "    }\n",
       "</style>\n",
       "<table border=\"1\" class=\"dataframe\">\n",
       "  <thead>\n",
       "    <tr style=\"text-align: right;\">\n",
       "      <th></th>\n",
       "      <th>image_path</th>\n",
       "      <th>label</th>\n",
       "      <th>handedness</th>\n",
       "      <th>x_0</th>\n",
       "      <th>y_0</th>\n",
       "      <th>z_0</th>\n",
       "      <th>x_1</th>\n",
       "      <th>y_1</th>\n",
       "      <th>z_1</th>\n",
       "      <th>x_2</th>\n",
       "      <th>...</th>\n",
       "      <th>z_17</th>\n",
       "      <th>x_18</th>\n",
       "      <th>y_18</th>\n",
       "      <th>z_18</th>\n",
       "      <th>x_19</th>\n",
       "      <th>y_19</th>\n",
       "      <th>z_19</th>\n",
       "      <th>x_20</th>\n",
       "      <th>y_20</th>\n",
       "      <th>z_20</th>\n",
       "    </tr>\n",
       "  </thead>\n",
       "  <tbody>\n",
       "    <tr>\n",
       "      <th>0</th>\n",
       "      <td>MODIFIED/three/483411bf-d6c4-4069-a9f0-9be2991...</td>\n",
       "      <td>three</td>\n",
       "      <td>Right</td>\n",
       "      <td>0.612183</td>\n",
       "      <td>0.318025</td>\n",
       "      <td>7.317577e-08</td>\n",
       "      <td>0.598469</td>\n",
       "      <td>0.307393</td>\n",
       "      <td>-0.007198</td>\n",
       "      <td>0.596133</td>\n",
       "      <td>...</td>\n",
       "      <td>-0.015236</td>\n",
       "      <td>0.633978</td>\n",
       "      <td>0.269408</td>\n",
       "      <td>-0.025884</td>\n",
       "      <td>0.627957</td>\n",
       "      <td>0.276344</td>\n",
       "      <td>-0.027594</td>\n",
       "      <td>0.625033</td>\n",
       "      <td>0.285333</td>\n",
       "      <td>-0.028106</td>\n",
       "    </tr>\n",
       "    <tr>\n",
       "      <th>1</th>\n",
       "      <td>MODIFIED/three/6d531851-7505-44ae-b33d-66df271...</td>\n",
       "      <td>three</td>\n",
       "      <td>Right</td>\n",
       "      <td>0.696770</td>\n",
       "      <td>0.612596</td>\n",
       "      <td>1.578746e-07</td>\n",
       "      <td>0.675120</td>\n",
       "      <td>0.599951</td>\n",
       "      <td>-0.010876</td>\n",
       "      <td>0.668818</td>\n",
       "      <td>...</td>\n",
       "      <td>-0.013578</td>\n",
       "      <td>0.715541</td>\n",
       "      <td>0.550152</td>\n",
       "      <td>-0.026647</td>\n",
       "      <td>0.712385</td>\n",
       "      <td>0.559398</td>\n",
       "      <td>-0.028564</td>\n",
       "      <td>0.711783</td>\n",
       "      <td>0.570779</td>\n",
       "      <td>-0.028509</td>\n",
       "    </tr>\n",
       "    <tr>\n",
       "      <th>2</th>\n",
       "      <td>MODIFIED/three/3fbe613f-8dad-42af-bb5b-e79ee9d...</td>\n",
       "      <td>three</td>\n",
       "      <td>Right</td>\n",
       "      <td>0.657386</td>\n",
       "      <td>0.480686</td>\n",
       "      <td>2.096897e-07</td>\n",
       "      <td>0.634820</td>\n",
       "      <td>0.468614</td>\n",
       "      <td>-0.024047</td>\n",
       "      <td>0.632191</td>\n",
       "      <td>...</td>\n",
       "      <td>-0.024930</td>\n",
       "      <td>0.684134</td>\n",
       "      <td>0.416551</td>\n",
       "      <td>-0.050336</td>\n",
       "      <td>0.670995</td>\n",
       "      <td>0.431210</td>\n",
       "      <td>-0.059019</td>\n",
       "      <td>0.665526</td>\n",
       "      <td>0.445013</td>\n",
       "      <td>-0.062883</td>\n",
       "    </tr>\n",
       "    <tr>\n",
       "      <th>3</th>\n",
       "      <td>MODIFIED/three/67053da9-dce8-41c2-aa93-623be21...</td>\n",
       "      <td>three</td>\n",
       "      <td>Right</td>\n",
       "      <td>0.769209</td>\n",
       "      <td>0.482112</td>\n",
       "      <td>1.406237e-07</td>\n",
       "      <td>0.746744</td>\n",
       "      <td>0.467820</td>\n",
       "      <td>-0.013969</td>\n",
       "      <td>0.741978</td>\n",
       "      <td>...</td>\n",
       "      <td>-0.020041</td>\n",
       "      <td>0.801147</td>\n",
       "      <td>0.408107</td>\n",
       "      <td>-0.034926</td>\n",
       "      <td>0.794522</td>\n",
       "      <td>0.416409</td>\n",
       "      <td>-0.036878</td>\n",
       "      <td>0.790670</td>\n",
       "      <td>0.428644</td>\n",
       "      <td>-0.036745</td>\n",
       "    </tr>\n",
       "    <tr>\n",
       "      <th>4</th>\n",
       "      <td>MODIFIED/three/8e6fa85a-db3a-41db-b4f6-749b03b...</td>\n",
       "      <td>three</td>\n",
       "      <td>Right</td>\n",
       "      <td>0.772205</td>\n",
       "      <td>0.697652</td>\n",
       "      <td>3.110322e-07</td>\n",
       "      <td>0.754092</td>\n",
       "      <td>0.695996</td>\n",
       "      <td>-0.019652</td>\n",
       "      <td>0.744546</td>\n",
       "      <td>...</td>\n",
       "      <td>-0.029792</td>\n",
       "      <td>0.792909</td>\n",
       "      <td>0.659825</td>\n",
       "      <td>-0.043081</td>\n",
       "      <td>0.790427</td>\n",
       "      <td>0.667583</td>\n",
       "      <td>-0.044754</td>\n",
       "      <td>0.787939</td>\n",
       "      <td>0.675619</td>\n",
       "      <td>-0.044510</td>\n",
       "    </tr>\n",
       "  </tbody>\n",
       "</table>\n",
       "<p>5 rows × 66 columns</p>\n",
       "</div>"
      ],
      "text/plain": [
       "                                          image_path  label handedness  \\\n",
       "0  MODIFIED/three/483411bf-d6c4-4069-a9f0-9be2991...  three      Right   \n",
       "1  MODIFIED/three/6d531851-7505-44ae-b33d-66df271...  three      Right   \n",
       "2  MODIFIED/three/3fbe613f-8dad-42af-bb5b-e79ee9d...  three      Right   \n",
       "3  MODIFIED/three/67053da9-dce8-41c2-aa93-623be21...  three      Right   \n",
       "4  MODIFIED/three/8e6fa85a-db3a-41db-b4f6-749b03b...  three      Right   \n",
       "\n",
       "        x_0       y_0           z_0       x_1       y_1       z_1       x_2  \\\n",
       "0  0.612183  0.318025  7.317577e-08  0.598469  0.307393 -0.007198  0.596133   \n",
       "1  0.696770  0.612596  1.578746e-07  0.675120  0.599951 -0.010876  0.668818   \n",
       "2  0.657386  0.480686  2.096897e-07  0.634820  0.468614 -0.024047  0.632191   \n",
       "3  0.769209  0.482112  1.406237e-07  0.746744  0.467820 -0.013969  0.741978   \n",
       "4  0.772205  0.697652  3.110322e-07  0.754092  0.695996 -0.019652  0.744546   \n",
       "\n",
       "   ...      z_17      x_18      y_18      z_18      x_19      y_19      z_19  \\\n",
       "0  ... -0.015236  0.633978  0.269408 -0.025884  0.627957  0.276344 -0.027594   \n",
       "1  ... -0.013578  0.715541  0.550152 -0.026647  0.712385  0.559398 -0.028564   \n",
       "2  ... -0.024930  0.684134  0.416551 -0.050336  0.670995  0.431210 -0.059019   \n",
       "3  ... -0.020041  0.801147  0.408107 -0.034926  0.794522  0.416409 -0.036878   \n",
       "4  ... -0.029792  0.792909  0.659825 -0.043081  0.790427  0.667583 -0.044754   \n",
       "\n",
       "       x_20      y_20      z_20  \n",
       "0  0.625033  0.285333 -0.028106  \n",
       "1  0.711783  0.570779 -0.028509  \n",
       "2  0.665526  0.445013 -0.062883  \n",
       "3  0.790670  0.428644 -0.036745  \n",
       "4  0.787939  0.675619 -0.044510  \n",
       "\n",
       "[5 rows x 66 columns]"
      ]
     },
     "execution_count": 3,
     "metadata": {},
     "output_type": "execute_result"
    }
   ],
   "source": [
    "# Access landmarks\n",
    "landmark_file = '../../data/HaGRID/modified/csv/hand_landmarks_hagrid_modified.csv'\n",
    "\n",
    "landmarks_df = pd.read_csv(landmark_file)\n",
    "landmarks_df.head()"
   ]
  },
  {
   "cell_type": "code",
   "execution_count": 9,
   "id": "09de8e91-46bc-45cf-9dbc-99ac729b7113",
   "metadata": {},
   "outputs": [
    {
     "data": {
      "image/png": "[encoded data removed]",
      "text/plain": [
       "<Figure size 1200x800 with 1 Axes>"
      ]
     },
     "metadata": {},
     "output_type": "display_data"
    }
   ],
   "source": [
    "# Plot number of rows per value\n",
    "label_counts = landmarks_df['label'].value_counts()\n",
    "plt.figure(figsize=(12, 8))\n",
    "label_counts.plot(kind='bar')\n",
    "plt.title('Counts of Each Label')\n",
    "plt.xlabel('Label')\n",
    "plt.ylabel('Count')\n",
    "plt.show()"
   ]
  },
  {
   "cell_type": "code",
   "execution_count": 10,
   "id": "9e0ccb05-dd0b-4c01-ab5e-43aa9ff39bf2",
   "metadata": {},
   "outputs": [
    {
     "data": {
      "image/png": "[encoded data removed]",
      "text/plain": [
       "<Figure size 1200x800 with 1 Axes>"
      ]
     },
     "metadata": {},
     "output_type": "display_data"
    }
   ],
   "source": [
    "# Plot number of rows per hand\n",
    "label_counts = landmarks_df['handedness'].value_counts()\n",
    "plt.figure(figsize=(12, 8))\n",
    "label_counts.plot(kind='bar')\n",
    "plt.title('Counts of Each Label')\n",
    "plt.xlabel('Label')\n",
    "plt.ylabel('Count')\n",
    "plt.show()"
   ]
  },
  {
   "cell_type": "code",
   "execution_count": 11,
   "id": "515c5269-520b-49f2-9820-ec77f7cef1a7",
   "metadata": {},
   "outputs": [
    {
     "data": {
      "text/plain": [
       "label\n",
       "palm       25307\n",
       "peace      24670\n",
       "three2     24557\n",
       "fist       24486\n",
       "four       24421\n",
       "ok         24396\n",
       "three      23490\n",
       "dislike    22967\n",
       "like       22896\n",
       "one        22894\n",
       "rock       22891\n",
       "call       22319\n",
       "Name: count, dtype: int64"
      ]
     },
     "execution_count": 11,
     "metadata": {},
     "output_type": "execute_result"
    }
   ],
   "source": [
    "# Going to ignore handedness for now, simply train off of the labels\n",
    "landmarks_df['label'].value_counts()"
   ]
  },
  {
   "cell_type": "code",
   "execution_count": 12,
   "id": "983bd170-e565-4b86-9af3-6395be8ce90b",
   "metadata": {},
   "outputs": [
    {
     "name": "stderr",
     "output_type": "stream",
     "text": [
      "/tmp/ipykernel_258269/3128411163.py:2: DeprecationWarning: DataFrameGroupBy.apply operated on the grouping columns. This behavior is deprecated, and in a future version of pandas the grouping columns will be excluded from the operation. Either pass `include_groups=False` to exclude the groupings or explicitly select the grouping columns after groupby to silence this warning.\n",
      "  df_label_balanced = df.groupby('label').apply(lambda x: x.sample(n=target_count, replace=False if len(x) > target_count else True)).reset_index(drop=True)\n"
     ]
    },
    {
     "data": {
      "text/plain": [
       "label\n",
       "call       22319\n",
       "dislike    22319\n",
       "fist       22319\n",
       "four       22319\n",
       "like       22319\n",
       "ok         22319\n",
       "one        22319\n",
       "palm       22319\n",
       "peace      22319\n",
       "rock       22319\n",
       "three      22319\n",
       "three2     22319\n",
       "Name: count, dtype: int64"
      ]
     },
     "execution_count": 12,
     "metadata": {},
     "output_type": "execute_result"
    }
   ],
   "source": [
    "target_count = 22319\n",
    "df_label_balanced = landmarks_df.groupby('label').apply(lambda x: x.sample(n=target_count, replace=False if len(x) > target_count else True)).reset_index(drop=True)\n",
    "df_label_balanced['label'].value_counts()"
   ]
  },
  {
   "cell_type": "code",
   "execution_count": 13,
   "id": "d11bc0ed-d4bc-4a44-a1b9-e1217b45f1bb",
   "metadata": {},
   "outputs": [],
   "source": [
    "# Write to a new csv file\n",
    "df_label_balanced.to_csv('../../data/HaGRID/modified/csv/train_label_balanced.csv', index=False, mode='w')"
   ]
  },
  {
   "cell_type": "code",
   "execution_count": 14,
   "id": "f1baf79a-cab1-4373-b928-e499a71920c2",
   "metadata": {},
   "outputs": [
    {
     "data": {
      "text/plain": [
       "handedness\n",
       "Left     154291\n",
       "Right    131003\n",
       "Name: count, dtype: int64"
      ]
     },
     "execution_count": 14,
     "metadata": {},
     "output_type": "execute_result"
    }
   ],
   "source": [
    "# Going to split by handedness now\n",
    "landmarks_df['handedness'].value_counts()"
   ]
  },
  {
   "cell_type": "code",
   "execution_count": 15,
   "id": "ee5a9205-8607-41ce-924e-c83272cc7cc7",
   "metadata": {},
   "outputs": [],
   "source": [
    "# Left hands\n",
    "df_left_hands = landmarks_df.drop(landmarks_df[landmarks_df['handedness'] == 'Left'].index)\n",
    "# Right hands\n",
    "df_right_hands = landmarks_df.drop(landmarks_df[landmarks_df['handedness'] == 'Right'].index)"
   ]
  },
  {
   "cell_type": "code",
   "execution_count": 16,
   "id": "dc0e9313-e1fa-4808-b68d-ec1849d9d978",
   "metadata": {},
   "outputs": [
    {
     "data": {
      "text/plain": [
       "label\n",
       "palm       11468\n",
       "three2     11445\n",
       "fist       11249\n",
       "peace      11160\n",
       "four       11098\n",
       "ok         11088\n",
       "three      10802\n",
       "dislike    10725\n",
       "one        10541\n",
       "rock       10537\n",
       "call       10492\n",
       "like       10398\n",
       "Name: count, dtype: int64"
      ]
     },
     "execution_count": 16,
     "metadata": {},
     "output_type": "execute_result"
    }
   ],
   "source": [
    "df_left_hands['label'].value_counts()"
   ]
  },
  {
   "cell_type": "code",
   "execution_count": 17,
   "id": "05811614-a8d2-41f1-bc65-ef79875263b6",
   "metadata": {},
   "outputs": [
    {
     "name": "stderr",
     "output_type": "stream",
     "text": [
      "/tmp/ipykernel_258269/3953325461.py:2: DeprecationWarning: DataFrameGroupBy.apply operated on the grouping columns. This behavior is deprecated, and in a future version of pandas the grouping columns will be excluded from the operation. Either pass `include_groups=False` to exclude the groupings or explicitly select the grouping columns after groupby to silence this warning.\n",
      "  df_left_label_balanced = df.groupby('label').apply(lambda x: x.sample(n=target_count, replace=False if len(x) > target_count else True)).reset_index(drop=True)\n"
     ]
    },
    {
     "data": {
      "text/plain": [
       "label\n",
       "call       10398\n",
       "dislike    10398\n",
       "fist       10398\n",
       "four       10398\n",
       "like       10398\n",
       "ok         10398\n",
       "one        10398\n",
       "palm       10398\n",
       "peace      10398\n",
       "rock       10398\n",
       "three      10398\n",
       "three2     10398\n",
       "Name: count, dtype: int64"
      ]
     },
     "execution_count": 17,
     "metadata": {},
     "output_type": "execute_result"
    }
   ],
   "source": [
    "target_count = 10398\n",
    "df_left_label_balanced = landmarks_df.groupby('label').apply(lambda x: x.sample(n=target_count, replace=False if len(x) > target_count else True)).reset_index(drop=True)\n",
    "df_left_label_balanced['label'].value_counts()"
   ]
  },
  {
   "cell_type": "code",
   "execution_count": 18,
   "id": "f9e97a0d-8906-43c3-93c0-bc5abbee4025",
   "metadata": {},
   "outputs": [],
   "source": [
    "# Write to a new csv file\n",
    "df_left_label_balanced.to_csv('../../data/HaGRID/modified/csv/train_left_label_balanced.csv', index=False, mode='w')"
   ]
  }
 ],
 "metadata": {
  "kernelspec": {
   "display_name": "Python 3 (ipykernel)",
   "language": "python",
   "name": "python3"
  },
  "language_info": {
   "codemirror_mode": {
    "name": "ipython",
    "version": 3
   },
   "file_extension": ".py",
   "mimetype": "text/x-python",
   "name": "python",
   "nbconvert_exporter": "python",
   "pygments_lexer": "ipython3",
   "version": "3.12.4"
  }
 },
 "nbformat": 4,
 "nbformat_minor": 5
}
