{
 "cells": [
  {
   "cell_type": "code",
   "execution_count": null,
   "id": "92a6beb9-c05c-4dd9-833c-4af552f187a5",
   "metadata": {},
   "outputs": [],
   "source": [
    "import os\n",
    "import cv2\n",
    "import pandas as pd\n",
    "import numpy as np\n",
    "import mediapipe as mp"
   ]
  },
  {
   "cell_type": "code",
   "execution_count": null,
   "id": "5d2750a2-579e-45aa-9400-49a9b1513527",
   "metadata": {},
   "outputs": [],
   "source": [
    "# Initialize MediaPipe Hands\n",
    "mp_hands = mp.solutions.hands\n",
    "hands = mp_hands.Hands(static_image_mode=True, max_num_hands=2, min_detection_confidence=0.5)\n",
    "\n",
    "# Directory paths\n",
    "base_dir = '../data/HaGRID/modified/images'\n",
    "landmark_file = '../data/HaGRID/modified/csv/hand_landmarks_hagrid_modified.csv'\n",
    "\n",
    "# Number of images to process in each batch\n",
    "batch_size = 100 "
   ]
  },
  {
   "cell_type": "code",
   "execution_count": null,
   "id": "fd2e1a5f-d298-46e6-9753-fb93a76db846",
   "metadata": {},
   "outputs": [],
   "source": [
    "# Prepare a list to store landmarks\n",
    "landmarks_list = []\n",
    "\n",
    "# Column names\n",
    "columns = ['image_path', 'label', 'handedness'] + [f'{axis}_{i}' for i in range(21) for axis in ['x', 'y', 'z']]\n",
    "\n",
    "# Function to save batch of landmarks to CSV\n",
    "def save_batch(landmarks_list, batch_num):\n",
    "    landmarks_df = pd.DataFrame(landmarks_list, columns=columns)\n",
    "    if batch_num == 0:\n",
    "        landmarks_df.to_csv(landmark_file, index=False, mode='w')  # Overwrite on first batch\n",
    "    else:\n",
    "        landmarks_df.to_csv(landmark_file, index=False, mode='a', header=False)  # Append for subsequent batches"
   ]
  },
  {
   "cell_type": "code",
   "execution_count": null,
   "id": "c377ea7f-fdc2-403e-ac9f-e6cbcb5bb1b6",
   "metadata": {},
   "outputs": [],
   "source": [
    "batch_num = 0\n",
    "for label in os.listdir(base_dir):\n",
    "    label_dir = os.path.join(base_dir, label)\n",
    "    if os.path.isdir(label_dir):\n",
    "        print(f'Processing directory: {label_dir}')\n",
    "        for filename in os.listdir(label_dir):\n",
    "            if filename.endswith('.jpg') or filename.endswith('.png'):\n",
    "                image_path = os.path.join(label_dir, filename)\n",
    "                image = cv2.imread(image_path)\n",
    "                \n",
    "                if image is not None:\n",
    "                    image_rgb = cv2.cvtColor(image, cv2.COLOR_BGR2RGB)\n",
    "\n",
    "                    # Process the image and detect hand landmarks\n",
    "                    result = hands.process(image_rgb)\n",
    "\n",
    "                    if result.multi_hand_landmarks and len(result.multi_hand_landmarks) == 1:\n",
    "                        hand_landmarks = result.multi_hand_landmarks[0]\n",
    "                        landmarks = [image_path, label]\n",
    "                        \n",
    "                        # Add hand label (left or right)\n",
    "                        handedness = result.multi_handedness[0].classification[0].label\n",
    "                        landmarks.append(handedness)\n",
    "                        \n",
    "                        # Add landmark coordinates\n",
    "                        landmarks += [coord for lm in hand_landmarks.landmark for coord in (lm.x, lm.y, lm.z)]\n",
    "                        \n",
    "                        landmarks_list.append(landmarks)\n",
    "                        print(f'Landmarks detected for image: {image_path}')\n",
    "                    else:\n",
    "                        if result.multi_hand_landmarks:\n",
    "                            print(f'Two hands detected, ignoring image: {image_path}')\n",
    "                        else:\n",
    "                            print(f'No landmarks detected for image: {image_path}')\n",
    "                else:\n",
    "                    print(f'Failed to read image: {image_path}')\n",
    "                \n",
    "                # Save batch if size is reached\n",
    "                if len(landmarks_list) >= batch_size:\n",
    "                    save_batch(landmarks_list, batch_num)\n",
    "                    batch_num += 1\n",
    "                    print(f'Batch Number: {batch_num}')\n",
    "                    landmarks_list = []\n",
    "\n",
    "# Save any remaining landmarks\n",
    "if landmarks_list:\n",
    "    save_batch(landmarks_list, batch_num)"
   ]
  },
  {
   "cell_type": "code",
   "execution_count": null,
   "id": "c6306bb9-0996-46b8-a4bb-575f08a04e71",
   "metadata": {},
   "outputs": [],
   "source": [
    "# Release MediaPipe resources\n",
    "hands.close()\n",
    "\n",
    "print(f'Finished processing.')"
   ]
  }
 ],
 "metadata": {
  "kernelspec": {
   "display_name": "Python 3 (ipykernel)",
   "language": "python",
   "name": "python3"
  },
  "language_info": {
   "codemirror_mode": {
    "name": "ipython",
    "version": 3
   },
   "file_extension": ".py",
   "mimetype": "text/x-python",
   "name": "python",
   "nbconvert_exporter": "python",
   "pygments_lexer": "ipython3",
   "version": "3.12.4"
  }
 },
 "nbformat": 4,
 "nbformat_minor": 5
}
